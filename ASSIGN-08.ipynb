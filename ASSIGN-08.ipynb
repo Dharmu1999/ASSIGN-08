{
 "cells": [
  {
   "cell_type": "code",
   "execution_count": 1,
   "id": "d01b2674-fa48-4fce-b711-74ff0db7a4f0",
   "metadata": {},
   "outputs": [],
   "source": [
    "# Q1. You are writing code for a company. The requirement of the company is that you create a python\n",
    "# function that will check whether the password entered by the user is correct or not. The function should\n",
    "# take the password as input and return the string “Valid Password” if the entered password follows the\n",
    "# below-given password guidelines else it should return “Invalid Password”.\n",
    "# Note: 1. The Password should contain at least two uppercase letters and at least two lowercase letters.\n",
    "# 2. The Password should contain at least a number and three special characters.\n",
    "# # 3. The length of the password should be 10 characters long."
   ]
  },
  {
   "cell_type": "code",
   "execution_count": 2,
   "id": "a74ddb2f-669d-44c8-8aec-86b2c524923d",
   "metadata": {},
   "outputs": [],
   "source": [
    "# ANS\n",
    "import re\n",
    "\n",
    "def check_password(password):\n",
    "    # Check password length\n",
    "    if len(password) != 10:\n",
    "        return \"Invalid Password\"\n",
    "    \n",
    "    # Check for at least two uppercase letters and two lowercase letters\n",
    "    if not re.search(r'[A-Z].*[A-Z]', password) or not re.search(r'[a-z].*[a-z]', password):\n",
    "        return \"Invalid Password\"\n",
    "    \n",
    "    # Check for at least one number and three special characters\n",
    "    if not re.search(r'\\d', password) or not re.search(r'[!@#$%^&*()_+{}|:<>?,./\\[\\]-]', password):\n",
    "        return \"Invalid Password\"\n",
    "    \n",
    "    # If all checks pass, return Valid Password\n",
    "    return \"Valid Password\"\n"
   ]
  },
  {
   "cell_type": "code",
   "execution_count": 3,
   "id": "93a330e3-9998-43a8-bea8-98d249e94edd",
   "metadata": {},
   "outputs": [
    {
     "name": "stdout",
     "output_type": "stream",
     "text": [
      "Invalid Password\n"
     ]
    }
   ],
   "source": [
    "password = \"Abcdef123$\"\n",
    "result = check_password(password)\n",
    "print(result) # Output: Valid Password\n"
   ]
  },
  {
   "cell_type": "code",
   "execution_count": 4,
   "id": "0973b629-4e76-431b-9738-0f8ff6880472",
   "metadata": {},
   "outputs": [],
   "source": [
    "# Q2. Solve the below-given questions using at least one of the following:\n",
    "# 1. Lambda functioJ\n",
    "# 2. Filter functioJ\n",
    "# 3. Zap functioJ\n",
    "# 4. List ComprehensioI\n",
    "# B Check if the string starts with a particular letterY\n",
    "# B Check if the string is numericY\n",
    "# B Sort a list of tuples having fruit names and their quantity. [(\"mango\",99),(\"orange\",80), (\"grapes\", 1000)-\n",
    "# B Find the squares of numbers from 1 to 10Y\n",
    "# B Find the cube root of numbers from 1 to 10Y\n",
    "# B Check if a given number is evenY\n",
    "# B Filter odd numbers from the given list.\n",
    "# [1,2,3,4,5,6,7,8,9,10-\n",
    "# B Sort a list of integers into positive and negative integers lists.\n",
    "# [1,2,3,4,5,6,-1,-2,-3,-4,-5,0]"
   ]
  },
  {
   "cell_type": "code",
   "execution_count": 5,
   "id": "4ad68946-5c4a-445d-8255-ccb41d293e47",
   "metadata": {},
   "outputs": [
    {
     "name": "stdout",
     "output_type": "stream",
     "text": [
      "True\n"
     ]
    }
   ],
   "source": [
    "# Check if the string starts with a particular letter:\n",
    "\n",
    "string = \"Hello World\"\n",
    "letter = \"H\"\n",
    "result = string.startswith(letter)\n",
    "print(result)  # \n"
   ]
  },
  {
   "cell_type": "code",
   "execution_count": 6,
   "id": "6e8390a1-c4e8-4087-b3a2-2051bf420d9e",
   "metadata": {},
   "outputs": [
    {
     "name": "stdout",
     "output_type": "stream",
     "text": [
      "True\n"
     ]
    }
   ],
   "source": [
    "# Alternatively, using lambda function and filter function:\n",
    "\n",
    "\n",
    "String = \"Hello World\"\n",
    "letter = \"H\"\n",
    "result = list(filter(lambda x: x.startswith(letter), [string]))\n",
    "print(bool(result))  \n"
   ]
  },
  {
   "cell_type": "code",
   "execution_count": 7,
   "id": "bf07ab11-afc3-404b-bc04-22b45f6974be",
   "metadata": {},
   "outputs": [
    {
     "name": "stdout",
     "output_type": "stream",
     "text": [
      "True\n"
     ]
    }
   ],
   "source": [
    "# Check if the string is numeric\n",
    "string = \"1234\"\n",
    "result = string.isnumeric()\n",
    "print(result)  \n"
   ]
  },
  {
   "cell_type": "code",
   "execution_count": 8,
   "id": "9a2b17be-5aa9-42b9-8b36-8645732bc6a7",
   "metadata": {},
   "outputs": [
    {
     "name": "stdout",
     "output_type": "stream",
     "text": [
      "True\n"
     ]
    }
   ],
   "source": [
    "# Alternatively, using lambda function and filter function\n",
    "\n",
    "\n",
    "string = \"1234\"\n",
    "result = list(filter(lambda x: x.isnumeric(), [string]))\n",
    "print(bool(result))  \n"
   ]
  },
  {
   "cell_type": "code",
   "execution_count": 9,
   "id": "76d0566b-c16a-4d03-a118-b515a24f1f5c",
   "metadata": {},
   "outputs": [
    {
     "name": "stdout",
     "output_type": "stream",
     "text": [
      "[('orange', 80), ('mango', 99), ('grapes', 1000)]\n"
     ]
    }
   ],
   "source": [
    "# Sort a list of tuples having fruit names and their quantity\n",
    "fruits = [(\"mango\",99),(\"orange\",80),(\"grapes\",1000)]\n",
    "sorted_fruits = sorted(fruits, key=lambda x: x[1])\n",
    "print(sorted_fruits)  \n"
   ]
  },
  {
   "cell_type": "code",
   "execution_count": 10,
   "id": "99648714-d7c0-4ee7-ae8f-659a952b27f9",
   "metadata": {},
   "outputs": [
    {
     "name": "stdout",
     "output_type": "stream",
     "text": [
      "[1, 4, 9, 16, 25, 36, 49, 64, 81, 100]\n"
     ]
    }
   ],
   "source": [
    "# Find the squares of numbers from 1 to 10?\n",
    "squares = [x*x for x in range(1, 11)]\n",
    "print(squares)  \n",
    "\n"
   ]
  },
  {
   "cell_type": "code",
   "execution_count": 11,
   "id": "7eb83676-68cc-4ff4-8e22-030f6822b0c7",
   "metadata": {},
   "outputs": [
    {
     "name": "stdout",
     "output_type": "stream",
     "text": [
      "[1.0, 1.2599210498948732, 1.4422495703074083, 1.5874010519681994, 1.7099759466766968, 1.8171205928321397, 1.912931182772389, 2.0, 2.080083823051904, 2.154434690031884]\n"
     ]
    }
   ],
   "source": [
    "# Find the cube root of numbers from 1 to 10:\n",
    "import math\n",
    "\n",
    "cube_roots = [math.pow(x, 1/3) for x in range(1, 11)]\n",
    "print(cube_roots)  \n"
   ]
  },
  {
   "cell_type": "code",
   "execution_count": 12,
   "id": "17aa17cc-91ce-4a9b-8e44-f76efd6f8840",
   "metadata": {},
   "outputs": [
    {
     "name": "stdout",
     "output_type": "stream",
     "text": [
      "True\n"
     ]
    }
   ],
   "source": [
    "# Check if a given number is even?\n",
    "number = 10\n",
    "result = number % 2 == 0\n",
    "print(result)  \n",
    "\n"
   ]
  },
  {
   "cell_type": "code",
   "execution_count": 13,
   "id": "cdb8b31b-0722-432d-82b3-7fec18cf30d2",
   "metadata": {},
   "outputs": [
    {
     "name": "stdout",
     "output_type": "stream",
     "text": [
      "True\n"
     ]
    }
   ],
   "source": [
    "# Alternatively, using lambda function and filter function\n",
    "number = 10\n",
    "result = bool(list(filter(lambda x: x % 2 == 0, [number])))\n",
    "print(result)  \n",
    "\n",
    "\n"
   ]
  },
  {
   "cell_type": "code",
   "execution_count": 19,
   "id": "33f554eb-fe1c-434d-aaa0-590bb9be2566",
   "metadata": {},
   "outputs": [
    {
     "name": "stdout",
     "output_type": "stream",
     "text": [
      "[1, 3, 5, 7, 9]\n"
     ]
    }
   ],
   "source": [
    "# Filter odd numbers from the given list?\n",
    "numbers = [1,2,3,4,5,6,7,8,9,10]\n",
    "odd_numbers = list(filter(lambda x: x % 2 != 0, numbers))\n",
    "print(odd_numbers)  # Output: [1, 3, 5, 7, 9]\n"
   ]
  },
  {
   "cell_type": "code",
   "execution_count": null,
   "id": "d3847b1f-cb8d-4ed1-a5f6-eb32c4db7326",
   "metadata": {},
   "outputs": [],
   "source": [
    "# Sort a list of integers into positive and negative integers lists?\n",
    "\n",
    "\n"
   ]
  }
 ],
 "metadata": {
  "kernelspec": {
   "display_name": "Python 3 (ipykernel)",
   "language": "python",
   "name": "python3"
  },
  "language_info": {
   "codemirror_mode": {
    "name": "ipython",
    "version": 3
   },
   "file_extension": ".py",
   "mimetype": "text/x-python",
   "name": "python",
   "nbconvert_exporter": "python",
   "pygments_lexer": "ipython3",
   "version": "3.10.8"
  }
 },
 "nbformat": 4,
 "nbformat_minor": 5
}
